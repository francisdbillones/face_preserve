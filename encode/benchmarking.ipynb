{
 "cells": [
  {
   "cell_type": "code",
   "execution_count": 3,
   "metadata": {},
   "outputs": [],
   "source": [
    "import ffmpeg\n",
    "import subprocess\n",
    "from pathlib import Path"
   ]
  },
  {
   "cell_type": "code",
   "execution_count": null,
   "metadata": {},
   "outputs": [
    {
     "name": "stderr",
     "output_type": "stream",
     "text": [
      "frame=  902 fps=101 q=-1.0 Lsize=    4352kB time=00:00:29.99 bitrate=1188.5kbits/s dup=2 drop=0 speed=3.36x    \n",
      "video:4340kB audio:0kB subtitle:0kB other streams:0kB global headers:0kB muxing overhead: 0.263471%\n",
      "[libx264 @ 0x600bcc862740] frame I:4     Avg QP:26.80  size: 54033\n",
      "[libx264 @ 0x600bcc862740] frame P:228   Avg QP:28.46  size:  9915\n",
      "[libx264 @ 0x600bcc862740] frame B:670   Avg QP:29.71  size:  2936\n",
      "[libx264 @ 0x600bcc862740] consecutive B-frames:  0.6%  0.7%  1.7% 97.1%\n",
      "[libx264 @ 0x600bcc862740] mb I  I16..4: 26.6% 60.0% 13.4%\n",
      "[libx264 @ 0x600bcc862740] mb P  I16..4:  3.3%  5.3%  0.4%  P16..4: 15.6%  5.6%  1.8%  0.0%  0.0%    skip:68.0%\n",
      "[libx264 @ 0x600bcc862740] mb B  I16..4:  1.0%  0.3%  0.1%  B16..8:  6.1%  1.6%  0.4%  direct: 2.5%  skip:88.0%  L0:44.2% L1:53.1% BI: 2.6%\n",
      "[libx264 @ 0x600bcc862740] 8x8 transform intra:48.3% inter:37.2%\n",
      "[libx264 @ 0x600bcc862740] coded y,uvDC,uvAC intra: 29.7% 38.0% 6.4% inter: 1.0% 3.6% 0.0%\n",
      "[libx264 @ 0x600bcc862740] i16 v,h,dc,p: 54% 31% 10%  4%\n",
      "[libx264 @ 0x600bcc862740] i8 v,h,dc,ddl,ddr,vr,hd,vl,hu: 23% 20% 27%  4%  5%  5%  5%  6%  5%\n",
      "[libx264 @ 0x600bcc862740] i4 v,h,dc,ddl,ddr,vr,hd,vl,hu: 41% 25% 22%  2%  2%  2%  2%  2%  2%\n",
      "[libx264 @ 0x600bcc862740] i8c dc,h,v,p: 58% 19% 19%  4%\n",
      "[libx264 @ 0x600bcc862740] Weighted P-Frames: Y:0.0% UV:0.0%\n",
      "[libx264 @ 0x600bcc862740] kb/s:1181.21\n"
     ]
    }
   ],
   "source": [
    "directory = Path(\"./benchmarking/video_call_mos_set/\")\n",
    "script = []\n",
    "for file in (directory/\"raw\").iterdir():\n",
    "    ffmpeg.input(str(file.absolute())).output(\n",
    "        str((directory/\"crf30\"/file.name).absolute()),\n",
    "        pix_fmt=\"yuv420p\",\n",
    "        crf=30,\n",
    "        preset=\"veryfast\",\n",
    "        vcodec=\"libx264\",\n",
    "    ).run(overwrite_output=True)"
   ]
  },
  {
   "cell_type": "code",
   "execution_count": null,
   "metadata": {},
   "outputs": [],
   "source": [
    "directory = Path(\"./benchmarking/video_call_mos_set/\")\n",
    "script = []\n",
    "for file in (directory/\"raw\").iterdir():\n",
    "    ffmpeg.input(str(file.absolute())).output(\n",
    "        str((directory/\"crf45\"/file.name).absolute()),\n",
    "        pix_fmt=\"yuv420p\",\n",
    "        crf=45,\n",
    "        preset=\"veryfast\",\n",
    "        vcodec=\"libx264\",\n",
    "    ).run(overwrite_output=True)"
   ]
  },
  {
   "cell_type": "code",
   "execution_count": 5,
   "metadata": {},
   "outputs": [
    {
     "ename": "error",
     "evalue": "OpenCV(4.9.0) /io/opencv/modules/imgcodecs/src/loadsave.cpp:696: error: (-2:Unspecified error) could not find a writer for the specified extension in function 'imwrite_'\n",
     "output_type": "error",
     "traceback": [
      "\u001b[0;31m---------------------------------------------------------------------------\u001b[0m",
      "\u001b[0;31merror\u001b[0m                                     Traceback (most recent call last)",
      "Cell \u001b[0;32mIn[5], line 11\u001b[0m\n\u001b[1;32m      9\u001b[0m frame \u001b[38;5;241m=\u001b[39m cap\u001b[38;5;241m.\u001b[39mread()[\u001b[38;5;241m1\u001b[39m]\n\u001b[1;32m     10\u001b[0m cap\u001b[38;5;241m.\u001b[39mrelease()\n\u001b[0;32m---> 11\u001b[0m \u001b[43mcv2\u001b[49m\u001b[38;5;241;43m.\u001b[39;49m\u001b[43mimwrite\u001b[49m\u001b[43m(\u001b[49m\u001b[38;5;28;43mstr\u001b[39;49m\u001b[43m(\u001b[49m\u001b[43mfile\u001b[49m\u001b[38;5;241;43m.\u001b[39;49m\u001b[43mname\u001b[49m\u001b[43m)\u001b[49m\u001b[43m,\u001b[49m\u001b[43m \u001b[49m\u001b[43mframe\u001b[49m\u001b[43m)\u001b[49m\n",
      "\u001b[0;31merror\u001b[0m: OpenCV(4.9.0) /io/opencv/modules/imgcodecs/src/loadsave.cpp:696: error: (-2:Unspecified error) could not find a writer for the specified extension in function 'imwrite_'\n"
     ]
    }
   ],
   "source": [
    "import cv2\n",
    "directory = Path(\"./benchmarking/video_call_mos_set/\")\n",
    "\n",
    "for file in (directory/\"raw\").iterdir():\n",
    "    cap = cv2.VideoCapture(str(file.absolute()))\n",
    "    width = int(cap.get(cv2.CAP_PROP_FRAME_WIDTH))\n",
    "    height = int(cap.get(cv2.CAP_PROP_FRAME_HEIGHT))\n",
    "    script = []\n",
    "    frame = cap.read()[1]\n",
    "    cap.release()\n",
    "    cv2.imwrite(str(file.name), frame)"
   ]
  },
  {
   "cell_type": "code",
   "execution_count": 27,
   "metadata": {},
   "outputs": [
    {
     "name": "stdout",
     "output_type": "stream",
     "text": [
      "benchmarking/video_call_mos_set/roi_crf30/ref_03_02.mp4\n",
      "benchmarking/video_call_mos_set/roi_crf30/ref_01_01.mp4\n",
      "benchmarking/video_call_mos_set/roi_crf30/ref_07_04.mp4\n",
      "benchmarking/video_call_mos_set/roi_crf30/ref_02_02.mp4\n",
      "benchmarking/video_call_mos_set/roi_crf30/ref_04_02.mp4\n",
      "benchmarking/video_call_mos_set/roi_crf30/ref_07_01.mp4\n",
      "benchmarking/video_call_mos_set/roi_crf30/ref_06_02.mp4\n",
      "benchmarking/video_call_mos_set/roi_crf30/ref_09_03.mp4\n",
      "benchmarking/video_call_mos_set/roi_crf30/ref_09_02.mp4\n",
      "benchmarking/video_call_mos_set/roi_crf30/ref_04_03.mp4\n",
      "benchmarking/video_call_mos_set/roi_crf30/ref_01_02.mp4\n",
      "benchmarking/video_call_mos_set/roi_crf30/ref_03_04.mp4\n",
      "benchmarking/video_call_mos_set/roi_crf30/ref_05_04.mp4\n",
      "benchmarking/video_call_mos_set/roi_crf30/ref_02_01.mp4\n",
      "benchmarking/video_call_mos_set/roi_crf30/ref_05_01.mp4\n",
      "benchmarking/video_call_mos_set/roi_crf30/ref_10_01.mp4\n",
      "benchmarking/video_call_mos_set/roi_crf30/ref_05_02.mp4\n",
      "benchmarking/video_call_mos_set/roi_crf30/ref_09_04.mp4\n",
      "benchmarking/video_call_mos_set/roi_crf30/ref_08_03.mp4\n",
      "benchmarking/video_call_mos_set/roi_crf30/ref_10_02.mp4\n",
      "benchmarking/video_call_mos_set/roi_crf30/ref_09_01.mp4\n",
      "benchmarking/video_call_mos_set/roi_crf30/ref_07_02.mp4\n",
      "benchmarking/video_call_mos_set/roi_crf30/ref_03_01.mp4\n",
      "benchmarking/video_call_mos_set/roi_crf30/ref_03_03.mp4\n",
      "benchmarking/video_call_mos_set/roi_crf30/ref_04_01.mp4\n",
      "benchmarking/video_call_mos_set/roi_crf30/ref_08_02.mp4\n",
      "benchmarking/video_call_mos_set/roi_crf30/ref_04_04.mp4\n",
      "benchmarking/video_call_mos_set/roi_crf30/ref_08_01.mp4\n",
      "benchmarking/video_call_mos_set/roi_crf30/ref_08_04.mp4\n",
      "benchmarking/video_call_mos_set/roi_crf30/ref_07_03.mp4\n",
      "benchmarking/video_call_mos_set/roi_crf30/ref_05_03.mp4\n",
      "benchmarking/video_call_mos_set/roi_crf30/ref_06_01.mp4\n"
     ]
    }
   ],
   "source": [
    "import pandas as pd\n",
    "data = pd.DataFrame(columns=[\"video_name\", \"duration\", \"resolution\", \"fps\", \"bitrate\", \"size\"])\n",
    "for file in (directory/\"roi_crf30\").iterdir():\n",
    "    print(file)\n",
    "    probe = ffmpeg.probe(str(file.absolute()))\n",
    "    video_stream = next((stream for stream in probe['streams'] if stream['codec_type'] == 'video'), None)\n",
    "    video_name = file.name\n",
    "    duration = float(video_stream['duration'])\n",
    "    resolution = f\"{video_stream['width']}x{video_stream['height']}\"\n",
    "    fps = eval(video_stream['r_frame_rate'])\n",
    "    bitrate = video_stream['bit_rate']\n",
    "    size = file.stat().st_size\n",
    "\n",
    "    # add row to the dataframe\n",
    "    data = pd.concat([data, pd.DataFrame([[video_name, duration, resolution, fps, bitrate, size]], columns=[\"video_name\", \"duration\", \"resolution\", \"fps\", \"bitrate\", \"size\"])])"
   ]
  },
  {
   "cell_type": "code",
   "execution_count": 25,
   "metadata": {},
   "outputs": [],
   "source": [
    "data.to_csv('data.csv')"
   ]
  },
  {
   "cell_type": "code",
   "execution_count": null,
   "metadata": {},
   "outputs": [],
   "source": []
  }
 ],
 "metadata": {
  "kernelspec": {
   "display_name": "encode",
   "language": "python",
   "name": "python3"
  },
  "language_info": {
   "codemirror_mode": {
    "name": "ipython",
    "version": 3
   },
   "file_extension": ".py",
   "mimetype": "text/x-python",
   "name": "python",
   "nbconvert_exporter": "python",
   "pygments_lexer": "ipython3",
   "version": "3.8.17"
  }
 },
 "nbformat": 4,
 "nbformat_minor": 2
}
